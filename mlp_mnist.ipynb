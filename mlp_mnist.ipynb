{
 "cells": [
  {
   "cell_type": "code",
   "execution_count": 1,
   "metadata": {},
   "outputs": [],
   "source": [
    "import torch\n",
    "from torchvision import datasets as dsets\n",
    "from torchvision import transforms\n",
    "\n",
    "train_Data = dsets.MNIST(\n",
    "    root='./data_mnist',\n",
    "    train=True,\n",
    "    transform=transforms.ToTensor(),\n",
    "    download=True\n",
    ")\n",
    "\n",
    "#テストデータ\n",
    "test_data = dsets.MNIST(\n",
    "    root='./data_mnist',\n",
    "    train=False,\n",
    "    transform=transforms.ToTensor(),\n",
    "    download=True\n",
    ")\n",
    "\n",
    "#訓練データ, 検証データ\n",
    "train_data, valid_data = torch.utils.data.random_split(train_Data, [48000, 12000])\n"
   ]
  },
  {
   "cell_type": "code",
   "execution_count": 2,
   "metadata": {},
   "outputs": [],
   "source": [
    "#load data\n",
    "train_loader = torch.utils.data.DataLoader(\n",
    "    dataset=train_data,\n",
    "    batch_size=64,\n",
    "    shuffle=True,\n",
    "    num_workers=2\n",
    ")\n",
    "\n",
    "valid_loader = torch.utils.data.DataLoader(\n",
    "    dataset=valid_data,\n",
    "    batch_size=64,\n",
    "    shuffle=False,\n",
    "    num_workers=2\n",
    ")\n",
    "\n",
    "test_loader = torch.utils.data.DataLoader(\n",
    "    dataset=test_data,\n",
    "    batch_size=64,\n",
    "    shuffle=False,\n",
    "    num_workers=2\n",
    ")"
   ]
  },
  {
   "cell_type": "code",
   "execution_count": 3,
   "metadata": {},
   "outputs": [],
   "source": [
    "from torch import nn\n",
    "from torch.functional import F\n",
    "from torch import optim\n",
    "\n",
    "#MLP(隠れ層1, 784->512->10, relu)\n",
    "class MLP(nn.Module):\n",
    "    '''\n",
    "    def __init__(self, D_in, H, D_out):\n",
    "        super(MLP, self).__init__()\n",
    "        self.l1 = nn.Linear(D_in, H)\n",
    "        self.l2 = nn.Linear(H,D_out)\n",
    "        \n",
    "    def forward(self, x):\n",
    "        h = F.relu(self.l1(x))\n",
    "        y = self.l2(x)\n",
    "        return y\n",
    "    '''\n",
    "    \n",
    "    def __init__(self):\n",
    "        super(MLP, self).__init__()\n",
    "        self.fc1 = nn.Linear(28 * 28 * 1, 512)\n",
    "        #self.fc2 = nn.Linear(512, 512)\n",
    "        self.fc3 = nn.Linear(512, 10)\n",
    "        #self.dropout1 = nn.Dropout2d(0.2)\n",
    "        #self.dropout2 = nn.Dropout2d(0.2)\n",
    "        \n",
    "    def forward(self, x):\n",
    "        x = F.relu(self.fc1(x))\n",
    "        #x = self.dropout1(x)\n",
    "        #x = F.relu(self.fc2(x))\n",
    "        #x = self.dropout2(x)\n",
    "        return self.fc3(x)\n",
    "    \n",
    "net = MLP()\n",
    "\n",
    "#損失関数:交差エントロピー\n",
    "criterion = nn.CrossEntropyLoss()\n",
    "#最適化:SGD, 学習率0.01\n",
    "optimizer = optim.SGD(net.parameters(), lr=0.01)"
   ]
  },
  {
   "cell_type": "code",
   "execution_count": 4,
   "metadata": {},
   "outputs": [
    {
     "name": "stdout",
     "output_type": "stream",
     "text": [
      "Epoch [1/50], Loss: 0.0204, val_loss: 0.0106, val_acc: 0.8431\n",
      "Epoch [2/50], Loss: 0.0084, val_loss: 0.0072, val_acc: 0.8782\n",
      "Epoch [3/50], Loss: 0.0065, val_loss: 0.0061, val_acc: 0.8930\n",
      "Epoch [4/50], Loss: 0.0058, val_loss: 0.0056, val_acc: 0.9009\n",
      "Epoch [5/50], Loss: 0.0054, val_loss: 0.0053, val_acc: 0.9038\n",
      "Epoch [6/50], Loss: 0.0050, val_loss: 0.0050, val_acc: 0.9081\n",
      "Epoch [7/50], Loss: 0.0048, val_loss: 0.0048, val_acc: 0.9117\n",
      "Epoch [8/50], Loss: 0.0046, val_loss: 0.0046, val_acc: 0.9157\n",
      "Epoch [9/50], Loss: 0.0044, val_loss: 0.0045, val_acc: 0.9190\n",
      "Epoch [10/50], Loss: 0.0043, val_loss: 0.0043, val_acc: 0.9221\n",
      "Epoch [11/50], Loss: 0.0041, val_loss: 0.0042, val_acc: 0.9243\n",
      "Epoch [12/50], Loss: 0.0040, val_loss: 0.0040, val_acc: 0.9270\n",
      "Epoch [13/50], Loss: 0.0039, val_loss: 0.0039, val_acc: 0.9294\n",
      "Epoch [14/50], Loss: 0.0037, val_loss: 0.0038, val_acc: 0.9317\n",
      "Epoch [15/50], Loss: 0.0036, val_loss: 0.0037, val_acc: 0.9324\n",
      "Epoch [16/50], Loss: 0.0035, val_loss: 0.0036, val_acc: 0.9347\n",
      "Epoch [17/50], Loss: 0.0034, val_loss: 0.0035, val_acc: 0.9353\n",
      "Epoch [18/50], Loss: 0.0033, val_loss: 0.0034, val_acc: 0.9370\n",
      "Epoch [19/50], Loss: 0.0032, val_loss: 0.0034, val_acc: 0.9383\n",
      "Epoch [20/50], Loss: 0.0031, val_loss: 0.0033, val_acc: 0.9388\n",
      "Epoch [21/50], Loss: 0.0031, val_loss: 0.0032, val_acc: 0.9408\n",
      "Epoch [22/50], Loss: 0.0030, val_loss: 0.0031, val_acc: 0.9428\n",
      "Epoch [23/50], Loss: 0.0029, val_loss: 0.0031, val_acc: 0.9435\n",
      "Epoch [24/50], Loss: 0.0028, val_loss: 0.0030, val_acc: 0.9460\n",
      "Epoch [25/50], Loss: 0.0028, val_loss: 0.0029, val_acc: 0.9457\n",
      "Epoch [26/50], Loss: 0.0027, val_loss: 0.0029, val_acc: 0.9479\n",
      "Epoch [27/50], Loss: 0.0026, val_loss: 0.0028, val_acc: 0.9478\n",
      "Epoch [28/50], Loss: 0.0026, val_loss: 0.0027, val_acc: 0.9498\n",
      "Epoch [29/50], Loss: 0.0025, val_loss: 0.0027, val_acc: 0.9513\n",
      "Epoch [30/50], Loss: 0.0024, val_loss: 0.0026, val_acc: 0.9520\n",
      "Epoch [31/50], Loss: 0.0024, val_loss: 0.0026, val_acc: 0.9524\n",
      "Epoch [32/50], Loss: 0.0023, val_loss: 0.0025, val_acc: 0.9537\n",
      "Epoch [33/50], Loss: 0.0023, val_loss: 0.0025, val_acc: 0.9547\n",
      "Epoch [34/50], Loss: 0.0022, val_loss: 0.0025, val_acc: 0.9551\n",
      "Epoch [35/50], Loss: 0.0022, val_loss: 0.0024, val_acc: 0.9560\n",
      "Epoch [36/50], Loss: 0.0021, val_loss: 0.0024, val_acc: 0.9573\n",
      "Epoch [37/50], Loss: 0.0021, val_loss: 0.0023, val_acc: 0.9579\n",
      "Epoch [38/50], Loss: 0.0020, val_loss: 0.0023, val_acc: 0.9593\n",
      "Epoch [39/50], Loss: 0.0020, val_loss: 0.0023, val_acc: 0.9590\n",
      "Epoch [40/50], Loss: 0.0020, val_loss: 0.0023, val_acc: 0.9591\n",
      "Epoch [41/50], Loss: 0.0019, val_loss: 0.0022, val_acc: 0.9601\n",
      "Epoch [42/50], Loss: 0.0019, val_loss: 0.0022, val_acc: 0.9605\n",
      "Epoch [43/50], Loss: 0.0019, val_loss: 0.0021, val_acc: 0.9617\n",
      "Epoch [44/50], Loss: 0.0018, val_loss: 0.0021, val_acc: 0.9615\n",
      "Epoch [45/50], Loss: 0.0018, val_loss: 0.0021, val_acc: 0.9617\n",
      "Epoch [46/50], Loss: 0.0018, val_loss: 0.0021, val_acc: 0.9627\n",
      "Epoch [47/50], Loss: 0.0017, val_loss: 0.0020, val_acc: 0.9637\n",
      "Epoch [48/50], Loss: 0.0017, val_loss: 0.0020, val_acc: 0.9633\n",
      "Epoch [49/50], Loss: 0.0017, val_loss: 0.0020, val_acc: 0.9638\n",
      "Epoch [50/50], Loss: 0.0016, val_loss: 0.0020, val_acc: 0.9640\n"
     ]
    }
   ],
   "source": [
    "#training\n",
    "\n",
    "#50エポック繰り返す\n",
    "num_epochs = 50\n",
    "\n",
    "train_loss_list, train_acc_list, val_loss_list, val_acc_list = [], [], [], []\n",
    " \n",
    "for epoch in range(num_epochs):\n",
    "    train_loss, train_acc, val_loss, val_acc = 0, 0, 0, 0\n",
    "    \n",
    "    #train\n",
    "    net.train()\n",
    "    for inputs, labels in train_loader:\n",
    "        inputs = inputs.view(-1, 28*28*1)\n",
    "        optimizer.zero_grad()  #初期化\n",
    "        outputs = net(inputs)  #出力\n",
    "        loss = criterion(outputs, labels)  #損失関数\n",
    "        train_loss += loss.item()\n",
    "        acc = (outputs.max(1)[1] == labels).sum()\n",
    "        train_acc += acc.item()\n",
    "        loss.backward()  #逆伝播\n",
    "        optimizer.step()  #重みの更新\n",
    "    avg_train_loss = train_loss / len(train_loader.dataset)  # lossの平均を計算\n",
    "    avg_train_acc = train_acc / len(train_loader.dataset)  # accの平均を計算\n",
    "    \n",
    "    #valid\n",
    "    net.eval()\n",
    "    with torch.no_grad():  #勾配の計算を停止\n",
    "        for inputs, labels in valid_loader:\n",
    "            inputs = inputs.view(-1, 28*28*1)\n",
    "            outputs = net(inputs)  #出力\n",
    "            loss = criterion(outputs, labels)  #損失関数\n",
    "            val_loss += loss.item()\n",
    "            acc = (outputs.max(1)[1] == labels).sum()\n",
    "            val_acc += acc.item()\n",
    "    avg_val_loss = val_loss / len(valid_loader.dataset)\n",
    "    avg_val_acc = val_acc / len(valid_loader.dataset)\n",
    "    \n",
    "    # print log\n",
    "    print ('Epoch [{}/{}], Loss: {loss:.4f}, val_loss: {val_loss:.4f}, val_acc: {val_acc:.4f}' \n",
    "                   .format(epoch+1, num_epochs, loss=avg_train_loss, val_loss=avg_val_loss, val_acc=avg_val_acc))\n",
    " \n",
    "    # append list for polt graph after training\n",
    "    train_loss_list.append(avg_train_loss)\n",
    "    train_acc_list.append(avg_train_acc)\n",
    "    val_loss_list.append(avg_val_loss)\n",
    "    val_acc_list.append(avg_val_acc)"
   ]
  },
  {
   "cell_type": "code",
   "execution_count": 5,
   "metadata": {},
   "outputs": [
    {
     "name": "stdout",
     "output_type": "stream",
     "text": [
      "test_accuracy: 96.52 %\n"
     ]
    }
   ],
   "source": [
    "test_acc = 0\n",
    "\n",
    "net.eval()\n",
    "with torch.no_grad():\n",
    "    for inputs, labels in test_loader:\n",
    "        inputs = inputs.view(-1, 28*28*1)\n",
    "        outputs = net(inputs)\n",
    "        acc = (outputs.max(1)[1] == labels).sum()\n",
    "        test_acc += acc.item()\n",
    "    print('test_accuracy: {} %'.format(100 * test_acc / len(test_loader.dataset)))\n",
    "        \n",
    "torch.save(net.state_dict(), 'mlp_mnist.ckpt')  #モデルを保存"
   ]
  },
  {
   "cell_type": "code",
   "execution_count": 6,
   "metadata": {},
   "outputs": [
    {
     "data": {
      "image/png": "[encoded data removed]",
      "text/plain": [
       "<Figure size 432x288 with 1 Axes>"
      ]
     },
     "metadata": {
      "needs_background": "light"
     },
     "output_type": "display_data"
    },
    {
     "data": {
      "image/png": "[encoded data removed]",
      "text/plain": [
       "<Figure size 432x288 with 1 Axes>"
      ]
     },
     "metadata": {
      "needs_background": "light"
     },
     "output_type": "display_data"
    }
   ],
   "source": [
    "import matplotlib.pyplot as plt\n",
    " \n",
    "plt.figure()\n",
    "plt.plot(range(num_epochs), train_loss_list, color='blue', linestyle='-', label='train_loss')\n",
    "plt.plot(range(num_epochs), val_loss_list, color='green', linestyle='--', label='val_loss')\n",
    "plt.legend()\n",
    "plt.xlabel('epoch')\n",
    "plt.ylabel('loss')\n",
    "plt.title('Training and validation loss')\n",
    "plt.grid()\n",
    " \n",
    "plt.figure()\n",
    "plt.plot(range(num_epochs), train_acc_list, color='blue', linestyle='-', label='train_acc')\n",
    "plt.plot(range(num_epochs), val_acc_list, color='green', linestyle='--', label='val_acc')\n",
    "plt.legend()\n",
    "plt.xlabel('epoch')\n",
    "plt.ylabel('acc')\n",
    "plt.title('Training and validation accuracy')\n",
    "plt.grid()"
   ]
  },
  {
   "cell_type": "code",
   "execution_count": null,
   "metadata": {},
   "outputs": [],
   "source": []
  }
 ],
 "metadata": {
  "kernelspec": {
   "display_name": "Python 3",
   "language": "python",
   "name": "python3"
  },
  "language_info": {
   "codemirror_mode": {
    "name": "ipython",
    "version": 3
   },
   "file_extension": ".py",
   "mimetype": "text/x-python",
   "name": "python",
   "nbconvert_exporter": "python",
   "pygments_lexer": "ipython3",
   "version": "3.7.6"
  }
 },
 "nbformat": 4,
 "nbformat_minor": 4
}
