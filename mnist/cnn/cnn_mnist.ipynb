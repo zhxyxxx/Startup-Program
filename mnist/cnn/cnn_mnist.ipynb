{
 "cells": [
  {
   "cell_type": "code",
   "execution_count": 11,
   "metadata": {},
   "outputs": [],
   "source": [
    "import torch\n",
    "from torchvision import datasets as dsets\n",
    "from torchvision import transforms\n",
    "\n",
    "train_Data = dsets.MNIST(\n",
    "    root='./data_mnist',\n",
    "    train=True,\n",
    "    transform=transforms.ToTensor(),\n",
    "    download=True\n",
    ")\n",
    "\n",
    "#テストデータ\n",
    "test_data = dsets.MNIST(\n",
    "    root='./data_mnist',\n",
    "    train=False,\n",
    "    transform=transforms.ToTensor(),\n",
    "    download=True\n",
    ")\n",
    "\n",
    "#訓練データ, 検証データ\n",
    "train_data, valid_data = torch.utils.data.random_split(train_Data, [48000, 12000])"
   ]
  },
  {
   "cell_type": "code",
   "execution_count": 12,
   "metadata": {},
   "outputs": [],
   "source": [
    "#load data\n",
    "train_loader = torch.utils.data.DataLoader(\n",
    "    dataset=train_data,\n",
    "    batch_size=64,\n",
    "    shuffle=True,\n",
    "    num_workers=2\n",
    ")\n",
    "\n",
    "valid_loader = torch.utils.data.DataLoader(\n",
    "    dataset=valid_data,\n",
    "    batch_size=64,\n",
    "    shuffle=False,\n",
    "    num_workers=2\n",
    ")\n",
    "\n",
    "test_loader = torch.utils.data.DataLoader(\n",
    "    dataset=test_data,\n",
    "    batch_size=64,\n",
    "    shuffle=False,\n",
    "    num_workers=2\n",
    ")"
   ]
  },
  {
   "cell_type": "code",
   "execution_count": 13,
   "metadata": {},
   "outputs": [],
   "source": [
    "from torch import nn\n",
    "from torch.functional import F\n",
    "from torch import optim\n",
    "\n",
    "#CNN(畳み込み1, 全結合1)\n",
    "class CNN(nn.Module):\n",
    "    \n",
    "    def __init__(self):\n",
    "        super(CNN, self).__init__()\n",
    "        self.conv1 = nn.Conv2d(1, 32, 5)  #filter 5*5, 32コ\n",
    "        self.pool1 = nn.MaxPool2d(2)      #2*2\n",
    "        self.fc1 = nn.Linear(12 * 12 * 32, 512)\n",
    "        self.fc2 = nn.Linear(512, 10)\n",
    "        \n",
    "    def forward(self, x):\n",
    "        x = F.relu(self.conv1(x))\n",
    "        x = self.pool1(x)\n",
    "        x = x.view(-1, 12*12*32)\n",
    "        x = F.relu(self.fc1(x))\n",
    "        return self.fc2(x)\n",
    "    \n",
    "net = CNN()\n",
    "\n",
    "#損失関数:交差エントロピー\n",
    "criterion = nn.CrossEntropyLoss()\n",
    "#最適化:SGD, 学習率0.005\n",
    "optimizer = optim.SGD(net.parameters(), lr=0.005)"
   ]
  },
  {
   "cell_type": "code",
   "execution_count": 14,
   "metadata": {},
   "outputs": [
    {
     "name": "stdout",
     "output_type": "stream",
     "text": [
      "Epoch [1/50], Loss: 0.0192, val_loss: 0.0076, val_acc: 0.8734\n",
      "Epoch [2/50], Loss: 0.0063, val_loss: 0.0053, val_acc: 0.9026\n",
      "Epoch [3/50], Loss: 0.0051, val_loss: 0.0047, val_acc: 0.9121\n",
      "Epoch [4/50], Loss: 0.0046, val_loss: 0.0042, val_acc: 0.9192\n",
      "Epoch [5/50], Loss: 0.0042, val_loss: 0.0039, val_acc: 0.9259\n",
      "Epoch [6/50], Loss: 0.0038, val_loss: 0.0036, val_acc: 0.9335\n",
      "Epoch [7/50], Loss: 0.0035, val_loss: 0.0033, val_acc: 0.9392\n",
      "Epoch [8/50], Loss: 0.0032, val_loss: 0.0031, val_acc: 0.9437\n",
      "Epoch [9/50], Loss: 0.0029, val_loss: 0.0028, val_acc: 0.9482\n",
      "Epoch [10/50], Loss: 0.0027, val_loss: 0.0026, val_acc: 0.9505\n",
      "Epoch [11/50], Loss: 0.0025, val_loss: 0.0024, val_acc: 0.9547\n",
      "Epoch [12/50], Loss: 0.0023, val_loss: 0.0023, val_acc: 0.9559\n",
      "Epoch [13/50], Loss: 0.0022, val_loss: 0.0021, val_acc: 0.9605\n",
      "Epoch [14/50], Loss: 0.0020, val_loss: 0.0020, val_acc: 0.9620\n",
      "Epoch [15/50], Loss: 0.0019, val_loss: 0.0019, val_acc: 0.9643\n",
      "Epoch [16/50], Loss: 0.0018, val_loss: 0.0018, val_acc: 0.9667\n",
      "Epoch [17/50], Loss: 0.0017, val_loss: 0.0017, val_acc: 0.9669\n",
      "Epoch [18/50], Loss: 0.0016, val_loss: 0.0016, val_acc: 0.9700\n",
      "Epoch [19/50], Loss: 0.0015, val_loss: 0.0015, val_acc: 0.9714\n",
      "Epoch [20/50], Loss: 0.0014, val_loss: 0.0014, val_acc: 0.9732\n",
      "Epoch [21/50], Loss: 0.0014, val_loss: 0.0014, val_acc: 0.9738\n",
      "Epoch [22/50], Loss: 0.0013, val_loss: 0.0013, val_acc: 0.9749\n",
      "Epoch [23/50], Loss: 0.0013, val_loss: 0.0013, val_acc: 0.9759\n",
      "Epoch [24/50], Loss: 0.0012, val_loss: 0.0012, val_acc: 0.9772\n",
      "Epoch [25/50], Loss: 0.0012, val_loss: 0.0012, val_acc: 0.9788\n",
      "Epoch [26/50], Loss: 0.0011, val_loss: 0.0012, val_acc: 0.9778\n",
      "Epoch [27/50], Loss: 0.0011, val_loss: 0.0011, val_acc: 0.9793\n",
      "Epoch [28/50], Loss: 0.0010, val_loss: 0.0011, val_acc: 0.9798\n",
      "Epoch [29/50], Loss: 0.0010, val_loss: 0.0011, val_acc: 0.9806\n",
      "Epoch [30/50], Loss: 0.0010, val_loss: 0.0010, val_acc: 0.9808\n",
      "Epoch [31/50], Loss: 0.0009, val_loss: 0.0010, val_acc: 0.9809\n",
      "Epoch [32/50], Loss: 0.0009, val_loss: 0.0010, val_acc: 0.9806\n",
      "Epoch [33/50], Loss: 0.0009, val_loss: 0.0010, val_acc: 0.9816\n",
      "Epoch [34/50], Loss: 0.0008, val_loss: 0.0010, val_acc: 0.9815\n",
      "Epoch [35/50], Loss: 0.0008, val_loss: 0.0009, val_acc: 0.9827\n",
      "Epoch [36/50], Loss: 0.0008, val_loss: 0.0009, val_acc: 0.9828\n",
      "Epoch [37/50], Loss: 0.0008, val_loss: 0.0009, val_acc: 0.9831\n",
      "Epoch [38/50], Loss: 0.0007, val_loss: 0.0009, val_acc: 0.9835\n",
      "Epoch [39/50], Loss: 0.0007, val_loss: 0.0009, val_acc: 0.9835\n",
      "Epoch [40/50], Loss: 0.0007, val_loss: 0.0008, val_acc: 0.9836\n",
      "Epoch [41/50], Loss: 0.0007, val_loss: 0.0008, val_acc: 0.9840\n",
      "Epoch [42/50], Loss: 0.0007, val_loss: 0.0008, val_acc: 0.9834\n",
      "Epoch [43/50], Loss: 0.0007, val_loss: 0.0008, val_acc: 0.9849\n",
      "Epoch [44/50], Loss: 0.0006, val_loss: 0.0009, val_acc: 0.9828\n",
      "Epoch [45/50], Loss: 0.0006, val_loss: 0.0008, val_acc: 0.9834\n",
      "Epoch [46/50], Loss: 0.0006, val_loss: 0.0009, val_acc: 0.9832\n",
      "Epoch [47/50], Loss: 0.0006, val_loss: 0.0008, val_acc: 0.9852\n",
      "Epoch [48/50], Loss: 0.0006, val_loss: 0.0008, val_acc: 0.9844\n",
      "Epoch [49/50], Loss: 0.0006, val_loss: 0.0008, val_acc: 0.9850\n",
      "Epoch [50/50], Loss: 0.0005, val_loss: 0.0008, val_acc: 0.9850\n"
     ]
    }
   ],
   "source": [
    "#training\n",
    "\n",
    "#50エポック繰り返す\n",
    "num_epochs = 50\n",
    "\n",
    "train_loss_list, train_acc_list, val_loss_list, val_acc_list = [], [], [], []\n",
    " \n",
    "for epoch in range(num_epochs):\n",
    "    train_loss, train_acc, val_loss, val_acc = 0, 0, 0, 0\n",
    "    \n",
    "    #train\n",
    "    net.train()\n",
    "    for inputs, labels in train_loader:\n",
    "        optimizer.zero_grad()  #初期化\n",
    "        outputs = net(inputs)  #出力\n",
    "        loss = criterion(outputs, labels)  #損失関数\n",
    "        train_loss += loss.item()\n",
    "        acc = (outputs.max(1)[1] == labels).sum()\n",
    "        train_acc += acc.item()\n",
    "        loss.backward()  #逆伝播\n",
    "        optimizer.step()  #重みの更新\n",
    "    avg_train_loss = train_loss / len(train_loader.dataset)  #lossの平均を計算\n",
    "    avg_train_acc = train_acc / len(train_loader.dataset)  #accの平均を計算\n",
    "    \n",
    "    #valid\n",
    "    net.eval()\n",
    "    with torch.no_grad():  #勾配の計算を停止\n",
    "        for inputs, labels in valid_loader:\n",
    "            outputs = net(inputs)  #出力\n",
    "            loss = criterion(outputs, labels)  #損失関数\n",
    "            val_loss += loss.item()\n",
    "            acc = (outputs.max(1)[1] == labels).sum()\n",
    "            val_acc += acc.item()\n",
    "    avg_val_loss = val_loss / len(valid_loader.dataset)\n",
    "    avg_val_acc = val_acc / len(valid_loader.dataset)\n",
    "    \n",
    "    print ('Epoch [{}/{}], Loss: {loss:.4f}, val_loss: {val_loss:.4f}, val_acc: {val_acc:.4f}' \n",
    "                   .format(epoch+1, num_epochs, loss=avg_train_loss, val_loss=avg_val_loss, val_acc=avg_val_acc))\n",
    " \n",
    "    #グラフ描画用のデータ\n",
    "    train_loss_list.append(avg_train_loss)\n",
    "    train_acc_list.append(avg_train_acc)\n",
    "    val_loss_list.append(avg_val_loss)\n",
    "    val_acc_list.append(avg_val_acc)"
   ]
  },
  {
   "cell_type": "code",
   "execution_count": 15,
   "metadata": {},
   "outputs": [
    {
     "name": "stdout",
     "output_type": "stream",
     "text": [
      "test_accuracy: 98.54 %\n"
     ]
    }
   ],
   "source": [
    "test_acc = 0\n",
    "\n",
    "net.eval()\n",
    "with torch.no_grad():\n",
    "    for inputs, labels in test_loader:\n",
    "        outputs = net(inputs)\n",
    "        acc = (outputs.max(1)[1] == labels).sum()\n",
    "        test_acc += acc.item()\n",
    "    print('test_accuracy: {} %'.format(100 * test_acc / len(test_loader.dataset)))\n",
    "        \n",
    "torch.save(net.state_dict(), 'cnn_mnist.ckpt')  #モデルを保存"
   ]
  },
  {
   "cell_type": "code",
   "execution_count": 16,
   "metadata": {},
   "outputs": [
    {
     "data": {
      "image/png": "[encoded data removed]",
      "text/plain": [
       "<Figure size 432x288 with 1 Axes>"
      ]
     },
     "metadata": {
      "needs_background": "light"
     },
     "output_type": "display_data"
    },
    {
     "data": {
      "image/png": "[encoded data removed]",
      "text/plain": [
       "<Figure size 432x288 with 1 Axes>"
      ]
     },
     "metadata": {
      "needs_background": "light"
     },
     "output_type": "display_data"
    }
   ],
   "source": [
    "import matplotlib.pyplot as plt\n",
    " \n",
    "plt.figure()\n",
    "plt.plot(range(num_epochs), train_loss_list, color='blue', linestyle='-', label='train_loss')\n",
    "plt.plot(range(num_epochs), val_loss_list, color='green', linestyle='--', label='val_loss')\n",
    "plt.legend()\n",
    "plt.xlabel('epoch')\n",
    "plt.ylabel('loss')\n",
    "plt.title('Training and validation loss')\n",
    "plt.grid()\n",
    " \n",
    "plt.figure()\n",
    "plt.plot(range(num_epochs), train_acc_list, color='blue', linestyle='-', label='train_acc')\n",
    "plt.plot(range(num_epochs), val_acc_list, color='green', linestyle='--', label='val_acc')\n",
    "plt.legend()\n",
    "plt.xlabel('epoch')\n",
    "plt.ylabel('acc')\n",
    "plt.title('Training and validation accuracy')\n",
    "plt.grid()"
   ]
  },
  {
   "cell_type": "code",
   "execution_count": null,
   "metadata": {},
   "outputs": [],
   "source": []
  }
 ],
 "metadata": {
  "kernelspec": {
   "display_name": "Python 3",
   "language": "python",
   "name": "python3"
  },
  "language_info": {
   "codemirror_mode": {
    "name": "ipython",
    "version": 3
   },
   "file_extension": ".py",
   "mimetype": "text/x-python",
   "name": "python",
   "nbconvert_exporter": "python",
   "pygments_lexer": "ipython3",
   "version": "3.7.6"
  }
 },
 "nbformat": 4,
 "nbformat_minor": 4
}
